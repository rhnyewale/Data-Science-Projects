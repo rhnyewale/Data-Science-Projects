{
 "cells": [
  {
   "cell_type": "code",
   "execution_count": 13,
   "metadata": {},
   "outputs": [
    {
     "name": "stdout",
     "output_type": "stream",
     "text": [
      "2 50 50\n",
      "2 50 50\n",
      "2 50 50\n",
      "2 50 50\n",
      "1 50 50\n",
      "2 50 50\n",
      "1 50 50\n",
      "2 50 50\n",
      "2 50 50\n",
      "2 50 50\n",
      "2 50 50\n",
      "2 50 50\n",
      "2 50 50\n",
      "2 50 50\n",
      "2 50 50\n",
      "3 50 50\n",
      "1 50 50\n",
      "1 50 50\n",
      "2 50 50\n",
      "2 50 50\n",
      "1 50 50\n",
      "3 50 50\n",
      "2 50 50\n",
      "4 50 50\n",
      "3 50 50\n",
      "1 50 50\n",
      "3 50 50\n",
      "1 50 50\n",
      "2 50 50\n",
      "3 50 50\n",
      "2 50 50\n",
      "2 50 50\n",
      "1 50 50\n",
      "1 50 50\n",
      "1 50 50\n",
      "1 50 50\n",
      "1 50 50\n",
      "2 50 50\n",
      "1 50 50\n",
      "1 50 50\n",
      "2 50 50\n",
      "3 50 50\n",
      "2 50 50\n",
      "1 50 50\n",
      "3 50 50\n",
      "2 50 50\n",
      "3 50 50\n",
      "3 50 50\n",
      "2 50 50\n",
      "2 50 50\n",
      "2 50 50\n",
      "2 50 50\n",
      "1 50 50\n",
      "2 50 50\n",
      "2 50 50\n",
      "2 50 50\n",
      "3 50 50\n",
      "2 50 50\n",
      "2 50 50\n",
      "2 50 50\n",
      "2 50 50\n",
      "1 50 50\n",
      "2 50 50\n",
      "2 50 50\n",
      "2 50 50\n",
      "1 50 50\n",
      "1 50 50\n",
      "1 50 50\n",
      "1 50 50\n",
      "1 50 50\n",
      "1 50 50\n",
      "2 50 50\n",
      "1 50 50\n",
      "2 50 50\n",
      "1 50 50\n",
      "3 50 50\n",
      "2 50 50\n",
      "2 50 50\n",
      "1 50 50\n",
      "1 50 50\n",
      "1 50 50\n",
      "2 50 50\n",
      "1 50 50\n",
      "1 50 50\n",
      "1 50 50\n",
      "1 50 50\n",
      "1 50 50\n",
      "2 50 50\n",
      "1 50 50\n",
      "1 50 50\n",
      "2 50 50\n",
      "1 50 50\n",
      "1 50 50\n",
      "1 50 50\n",
      "1 50 50\n",
      "1 50 50\n",
      "2 50 50\n",
      "2 50 50\n",
      "3 50 50\n",
      "3 50 50\n"
     ]
    },
    {
     "ename": "IndexError",
     "evalue": "index 100 is out of bounds for axis 0 with size 100",
     "output_type": "error",
     "traceback": [
      "\u001b[1;31m---------------------------------------------------------------------------\u001b[0m",
      "\u001b[1;31mIndexError\u001b[0m                                Traceback (most recent call last)",
      "\u001b[1;32m<ipython-input-13-fa4f0794080f>\u001b[0m in \u001b[0;36m<module>\u001b[1;34m\u001b[0m\n\u001b[0;32m     21\u001b[0m     \u001b[1;31m#piliops.expand(pili.open(onlyfiles[i]),border=(40,40),fill=(77,0,0)).save(onlyfiles1[i])\u001b[0m\u001b[1;33m\u001b[0m\u001b[1;33m\u001b[0m\u001b[1;33m\u001b[0m\u001b[0m\n\u001b[0;32m     22\u001b[0m \u001b[1;33m\u001b[0m\u001b[0m\n\u001b[1;32m---> 23\u001b[1;33m     \u001b[0mcaption\u001b[0m \u001b[1;33m=\u001b[0m \u001b[0mdata\u001b[0m\u001b[1;33m.\u001b[0m\u001b[0mvalues\u001b[0m\u001b[1;33m[\u001b[0m\u001b[0mi\u001b[0m\u001b[1;33m]\u001b[0m\u001b[1;33m[\u001b[0m\u001b[1;36m0\u001b[0m\u001b[1;33m]\u001b[0m\u001b[1;33m\u001b[0m\u001b[1;33m\u001b[0m\u001b[0m\n\u001b[0m\u001b[0;32m     24\u001b[0m     \u001b[0mTINT_COLOR\u001b[0m \u001b[1;33m=\u001b[0m \u001b[1;33m(\u001b[0m\u001b[1;36m0\u001b[0m\u001b[1;33m,\u001b[0m \u001b[1;36m0\u001b[0m\u001b[1;33m,\u001b[0m \u001b[1;36m0\u001b[0m\u001b[1;33m)\u001b[0m  \u001b[1;31m# Black\u001b[0m\u001b[1;33m\u001b[0m\u001b[1;33m\u001b[0m\u001b[0m\n\u001b[0;32m     25\u001b[0m     \u001b[0mTRANSPARENCY\u001b[0m \u001b[1;33m=\u001b[0m \u001b[1;36m.75\u001b[0m  \u001b[1;31m# Degree of transparency, 0-100%\u001b[0m\u001b[1;33m\u001b[0m\u001b[1;33m\u001b[0m\u001b[0m\n",
      "\u001b[1;31mIndexError\u001b[0m: index 100 is out of bounds for axis 0 with size 100"
     ]
    }
   ],
   "source": [
    "from IPython.display import Image\n",
    "from os import listdir\n",
    "from os.path import isfile, join\n",
    "from PIL import Image as pili, ImageOps as piliops\n",
    "from PIL import Image as pili, ImageDraw as pild, ImageFont as pilf\n",
    "from PIL import Image, ImageFont, ImageDraw\n",
    "import pandas as pd\n",
    "\n",
    "#data = pd.read_csv('democomic/dialog.csv')\n",
    "#data.head(10)\n",
    "\n",
    "mypath = 'images/'\n",
    "onlyfiles = ['images/'+f for f in listdir(mypath) if isfile(join(mypath, f))]\n",
    "mypath1 = 'bordered/'\n",
    "onlyfiles1 = ['bordered/'+f for f in listdir(mypath1) if isfile(join(mypath1, f))]\n",
    "mypath2 = 'subtitles'\n",
    "onlyfiles2 = ['subtitles/'+f for f in listdir(mypath2) if isfile(join(mypath2, f))]\n",
    "length = len(onlyfiles)\n",
    "i=0\n",
    "while i<length:\n",
    "    #piliops.expand(pili.open(onlyfiles[i]),border=(40,40),fill=(77,0,0)).save(onlyfiles1[i])\n",
    "   \n",
    "    caption = data.values[i][0]\n",
    "    TINT_COLOR = (0, 0, 0)  # Black\n",
    "    TRANSPARENCY = .75  # Degree of transparency, 0-100%\n",
    "    OPACITY = int(255 * TRANSPARENCY)\n",
    "    img = pili.open(onlyfiles1[i]).convert('RGBA')\n",
    "    overlay = pili.new('RGBA', img.size, TINT_COLOR+(0,))\n",
    "    draw = pild.Draw(overlay)\n",
    "    font = pilf.truetype(\"calibri.ttf\", 33)\n",
    "    #x, y = (img.width - 510, img.height-100)\n",
    "    text = caption\n",
    "    w, h = font.getsize(text)\n",
    "    num_lines = len(text.split('\\n'))\n",
    "    print(num_lines, 50, 50)\n",
    "    x, y = 30, img.height - (((num_lines-0.1*num_lines)*h)+30)\n",
    "    #draw.rectangle((x, y, x + w, y + h), fill='black')\n",
    "    #draw.rectangle((x, y, x + w, y + 4*h), fill=TINT_COLOR+(OPACITY,))\n",
    "    draw.rectangle((x, y, x + img.width - 60, y + (num_lines-0.1*num_lines)*h), fill=TINT_COLOR+(OPACITY,))\n",
    "    draw.text((x, y), text, fill=(255, 255, 255), font=font)\n",
    "    # Alpha composite these two images together to obtain the desired result.\n",
    "    img = pili.alpha_composite(img, overlay)\n",
    "    img = img.convert(\"RGB\") # Remove alpha for saving in jpg format.\n",
    "    img.save(onlyfiles2[i])\n",
    "   \n",
    "    i += 1\n",
    "    print('Success')"
   ]
  },
  {
   "cell_type": "code",
   "execution_count": 8,
   "metadata": {},
   "outputs": [
    {
     "data": {
      "text/html": [
       "<div>\n",
       "<style scoped>\n",
       "    .dataframe tbody tr th:only-of-type {\n",
       "        vertical-align: middle;\n",
       "    }\n",
       "\n",
       "    .dataframe tbody tr th {\n",
       "        vertical-align: top;\n",
       "    }\n",
       "\n",
       "    .dataframe thead th {\n",
       "        text-align: right;\n",
       "    }\n",
       "</style>\n",
       "<table border=\"1\" class=\"dataframe\">\n",
       "  <thead>\n",
       "    <tr style=\"text-align: right;\">\n",
       "      <th></th>\n",
       "      <th>Script</th>\n",
       "    </tr>\n",
       "  </thead>\n",
       "  <tbody>\n",
       "    <tr>\n",
       "      <td>0</td>\n",
       "      <td>In the jungle of India, a group of \\nvillagers...</td>\n",
       "    </tr>\n",
       "    <tr>\n",
       "      <td>1</td>\n",
       "      <td>Later that night, Shere Khan the tiger, and hi...</td>\n",
       "    </tr>\n",
       "    <tr>\n",
       "      <td>2</td>\n",
       "      <td>A young boy named Mowgli runs off in \\nsearch ...</td>\n",
       "    </tr>\n",
       "    <tr>\n",
       "      <td>3</td>\n",
       "      <td>He is eventually taken into a wolf \\npack by w...</td>\n",
       "    </tr>\n",
       "    <tr>\n",
       "      <td>4</td>\n",
       "      <td>Alexander hears some hustle</td>\n",
       "    </tr>\n",
       "    <tr>\n",
       "      <td>5</td>\n",
       "      <td>Mama Wolf take's the Cubs and \\nMan-Cub safe i...</td>\n",
       "    </tr>\n",
       "    <tr>\n",
       "      <td>6</td>\n",
       "      <td>It's Shere Khan, who came for the Man-Cub</td>\n",
       "    </tr>\n",
       "    <tr>\n",
       "      <td>7</td>\n",
       "      <td>Alexander saves the Man-Cub from Shere Khan \\n...</td>\n",
       "    </tr>\n",
       "    <tr>\n",
       "      <td>8</td>\n",
       "      <td>From that day onwards Mowgli was brought up\\nb...</td>\n",
       "    </tr>\n",
       "    <tr>\n",
       "      <td>9</td>\n",
       "      <td>Mowgli befriends Baloo the bear, \\nBagheera th...</td>\n",
       "    </tr>\n",
       "  </tbody>\n",
       "</table>\n",
       "</div>"
      ],
      "text/plain": [
       "                                              Script\n",
       "0  In the jungle of India, a group of \\nvillagers...\n",
       "1  Later that night, Shere Khan the tiger, and hi...\n",
       "2  A young boy named Mowgli runs off in \\nsearch ...\n",
       "3  He is eventually taken into a wolf \\npack by w...\n",
       "4                        Alexander hears some hustle\n",
       "5  Mama Wolf take's the Cubs and \\nMan-Cub safe i...\n",
       "6          It's Shere Khan, who came for the Man-Cub\n",
       "7  Alexander saves the Man-Cub from Shere Khan \\n...\n",
       "8  From that day onwards Mowgli was brought up\\nb...\n",
       "9  Mowgli befriends Baloo the bear, \\nBagheera th..."
      ]
     },
     "execution_count": 8,
     "metadata": {},
     "output_type": "execute_result"
    }
   ],
   "source": [
    "import pandas as pd\n",
    "data = pd.read_csv('dialog.csv')\n",
    "data.head(10)"
   ]
  },
  {
   "cell_type": "code",
   "execution_count": 14,
   "metadata": {},
   "outputs": [
    {
     "name": "stderr",
     "output_type": "stream",
     "text": [
      "C:\\Users\\rhnye\\Anaconda3\\lib\\site-packages\\ipykernel_launcher.py:28: FutureWarning: arrays to stack must be passed as a \"sequence\" type such as list or tuple. Support for non-sequence iterables such as generators is deprecated as of NumPy 1.16 and will raise an error in the future.\n"
     ]
    },
    {
     "name": "stdout",
     "output_type": "stream",
     "text": [
      "['subtitles/A1.jpg', 'subtitles/A2.jpg', 'subtitles/A3.jpg', 'subtitles/A4.jpg']\n",
      "['subtitles/A5.jpg', 'subtitles/A6.jpg', 'subtitles/A7.jpg', 'subtitles/A8.jpg', 'subtitles/A9.jpg']\n",
      "['subtitles/B1.jpg', 'subtitles/B2.jpg', 'subtitles/B3.jpg', 'subtitles/B4.jpg']\n",
      "['subtitles/B5.jpg', 'subtitles/B6.jpg', 'subtitles/B7.jpg', 'subtitles/B8.jpg', 'subtitles/B9.jpg']\n",
      "['subtitles/C1.jpg', 'subtitles/C2.jpg', 'subtitles/C3.jpg', 'subtitles/C4.jpg']\n",
      "['subtitles/C5.jpg', 'subtitles/C6.jpg', 'subtitles/C7.jpg', 'subtitles/C8.jpg', 'subtitles/C9.jpg']\n",
      "['subtitles/D1.jpg', 'subtitles/D2.jpg', 'subtitles/D3.jpg', 'subtitles/D4.jpg']\n",
      "['subtitles/D5.jpg', 'subtitles/D6.jpg', 'subtitles/D7.jpg', 'subtitles/D8.jpg', 'subtitles/D9.jpg']\n",
      "['subtitles/E1.jpg', 'subtitles/E2.jpg', 'subtitles/E3.jpg', 'subtitles/E4.jpg']\n",
      "['subtitles/E5.jpg', 'subtitles/E6.jpg', 'subtitles/E7.jpg', 'subtitles/E8.jpg', 'subtitles/E9.jpg']\n",
      "['subtitles/F1.jpg', 'subtitles/F2.jpg', 'subtitles/F3.jpg', 'subtitles/F4.jpg']\n",
      "['subtitles/F5.jpg', 'subtitles/F6.jpg', 'subtitles/F7.jpg', 'subtitles/F8.jpg', 'subtitles/F9.jpg']\n",
      "['subtitles/G1.jpg', 'subtitles/G2.jpg', 'subtitles/G3.jpg', 'subtitles/G4.jpg']\n",
      "['subtitles/G5.jpg', 'subtitles/G6.jpg', 'subtitles/G7.jpg', 'subtitles/G8.jpg', 'subtitles/G9.jpg']\n",
      "['subtitles/H1.jpg', 'subtitles/H2.jpg', 'subtitles/H3.jpg', 'subtitles/H4.jpg']\n",
      "['subtitles/H5.jpg', 'subtitles/H6.jpg', 'subtitles/H7.jpg', 'subtitles/H8.jpg']\n",
      "['subtitles/H9.jpg', 'subtitles/I1.jpg', 'subtitles/I2.jpg', 'subtitles/I3.jpg', 'subtitles/I4.jpg']\n",
      "['subtitles/I5.jpg', 'subtitles/I6.jpg', 'subtitles/I7.jpg', 'subtitles/I8.jpg']\n",
      "['subtitles/I9.jpg', 'subtitles/J1.jpg', 'subtitles/J2.jpg', 'subtitles/J3.jpg', 'subtitles/J4.jpg']\n",
      "['subtitles/J5.jpg', 'subtitles/J6.jpg', 'subtitles/J7.jpg', 'subtitles/J8.jpg']\n",
      "['subtitles/J9.jpg', 'subtitles/K1.jpg', 'subtitles/K2.jpg', 'subtitles/K3.jpg', 'subtitles/K4.jpg']\n",
      "['subtitles/K5.jpg', 'subtitles/K6.jpg', 'subtitles/K7.jpg', 'subtitles/K8.jpg']\n",
      "['subtitles/K9.jpg', 'subtitles/L1.jpg']\n"
     ]
    }
   ],
   "source": [
    "import numpy as np\n",
    "import PIL\n",
    "from PIL import Image as pili, ImageOps as piliops\n",
    "from PIL import Image as pili, ImageDraw as pild, ImageFont as pilf\n",
    "from PIL import Image, ImageFont, ImageDraw\n",
    "from os import listdir\n",
    "from os.path import isfile, join\n",
    "from PIL import Image\n",
    "from fpdf import FPDF\n",
    "mypath2 = 'subtitles/'\n",
    "onlyfiles2 = ['subtitles/'+f for f in listdir(mypath2) if isfile(join(mypath2, f))]\n",
    "list_im = onlyfiles2\n",
    "Alist = []\n",
    "filename = 1\n",
    "list_im\n",
    "while 0 < len(list_im):\n",
    "    lines = 0\n",
    "    #print(\"new page!\")\n",
    "    num_cols = old_num_cols = 0\n",
    "    while lines < 5 and 0 < len(list_im):\n",
    "        lines += 1\n",
    "        while num_cols == old_num_cols:\n",
    "            num_cols = np.random.randint(4, 6)\n",
    "        old_num_cols = num_cols\n",
    "        window = list_im[:num_cols]\n",
    "        imgs    = [ PIL.Image.open(i) for i in window ]\n",
    "        min_shape = sorted( [(np.sum(i.size), i.size ) for i in imgs])[0][1]\n",
    "        imgs_comb = np.hstack( (np.asarray( i.resize(min_shape) ) for i in imgs ) )\n",
    "        imgs_comb = PIL.Image.fromarray( imgs_comb)\n",
    "        imgs_comb.save( 'comic/row/'+str(filename)+'.jpg' )\n",
    "        filename += 1\n",
    "        print(window)\n",
    "        list_im = list_im[num_cols:]"
   ]
  },
  {
   "cell_type": "code",
   "execution_count": 32,
   "metadata": {},
   "outputs": [
    {
     "data": {
      "text/plain": [
       "''"
      ]
     },
     "execution_count": 32,
     "metadata": {},
     "output_type": "execute_result"
    }
   ],
   "source": [
    "from PIL import Image\n",
    "from fpdf import FPDF\n",
    "\n",
    "#pdf = FPDF()\n",
    "cover = Image.open('comic/row/1.jpg')\n",
    "width, height = cover.size\n",
    "pdf = FPDF(unit = \"pt\", format = [width+50, height])\n",
    "# imagelist is the list with all image filenames\n",
    "imagelist = ['comic/row/1.jpg',\n",
    "             'comic/row/2.jpg',\n",
    "             'comic/row/3.jpg',\n",
    "             'comic/row/4.jpg',\n",
    "             'comic/row/5.jpg'\n",
    "            ]\n",
    "for image in imagelist:\n",
    "    pdf.add_page()\n",
    "    pdf.image(image, 0, 0, width, height)\n",
    "pdf.output(\"pages/page1.pdf\", \"F\")"
   ]
  },
  {
   "cell_type": "code",
   "execution_count": 38,
   "metadata": {},
   "outputs": [
    {
     "data": {
      "text/plain": [
       "''"
      ]
     },
     "execution_count": 38,
     "metadata": {},
     "output_type": "execute_result"
    }
   ],
   "source": [
    "from fpdf import FPDF\n",
    "\n",
    "#pdf = FPDF()\n",
    "cover = Image.open('comic/row/7.jpg')\n",
    "width, height = cover.size\n",
    "pdf = FPDF(unit = \"pt\", format = [width+50, height])\n",
    "# imagelist is the list with all image filenames\n",
    "imagelist = ['comic/row/6.jpg',\n",
    "             'comic/row/7.jpg',\n",
    "             'comic/row/8.jpg',\n",
    "             'comic/row/9.jpg',\n",
    "             'comic/row/10.jpg'\n",
    "            ]\n",
    "for image in imagelist:\n",
    "    pdf.add_page()\n",
    "    pdf.image(image, 0, 0, width, height)\n",
    "pdf.output(\"pages/page2.pdf\", \"F\")"
   ]
  },
  {
   "cell_type": "code",
   "execution_count": 34,
   "metadata": {},
   "outputs": [
    {
     "data": {
      "text/plain": [
       "''"
      ]
     },
     "execution_count": 34,
     "metadata": {},
     "output_type": "execute_result"
    }
   ],
   "source": [
    "from fpdf import FPDF\n",
    "\n",
    "#pdf = FPDF()\n",
    "cover = Image.open('comic/row/11.jpg')\n",
    "width, height = cover.size\n",
    "pdf = FPDF(unit = \"pt\", format = [width+50, height])\n",
    "# imagelist is the list with all image filenames\n",
    "imagelist = ['comic/row/11.jpg',\n",
    "             'comic/row/12.jpg',\n",
    "             'comic/row/13.jpg',\n",
    "             'comic/row/14.jpg'\n",
    "\n",
    "            ]\n",
    "for image in imagelist:\n",
    "    pdf.add_page()\n",
    "    pdf.image(image, 0, 0, width, height)\n",
    "pdf.output(\"pages/page3.pdf\", \"F\")"
   ]
  },
  {
   "cell_type": "code",
   "execution_count": 35,
   "metadata": {},
   "outputs": [
    {
     "data": {
      "text/plain": [
       "''"
      ]
     },
     "execution_count": 35,
     "metadata": {},
     "output_type": "execute_result"
    }
   ],
   "source": [
    "from fpdf import FPDF\n",
    "\n",
    "#pdf = FPDF()\n",
    "cover = Image.open('comic/row/16.jpg')\n",
    "width, height = cover.size\n",
    "pdf = FPDF(unit = \"pt\", format = [width+50, height])\n",
    "# imagelist is the list with all image filenames\n",
    "imagelist = [\n",
    "             'comic/row/15.jpg',\n",
    "             'comic/row/16.jpg',\n",
    "             'comic/row/17.jpg',\n",
    "             'comic/row/18.jpg'\n",
    "             \n",
    "            ]\n",
    "for image in imagelist:\n",
    "    pdf.add_page()\n",
    "    pdf.image(image, 0, 0, width, height)\n",
    "pdf.output(\"pages/page4.pdf\", \"F\")"
   ]
  },
  {
   "cell_type": "code",
   "execution_count": 36,
   "metadata": {},
   "outputs": [
    {
     "data": {
      "text/plain": [
       "''"
      ]
     },
     "execution_count": 36,
     "metadata": {},
     "output_type": "execute_result"
    }
   ],
   "source": [
    "from fpdf import FPDF\n",
    "\n",
    "#pdf = FPDF()\n",
    "cover = Image.open('comic/row/20.jpg')\n",
    "width, height = cover.size\n",
    "pdf = FPDF(unit = \"pt\", format = [width+50, height])\n",
    "# imagelist is the list with all image filenames\n",
    "imagelist = [\n",
    "             'comic/row/19.jpg',\n",
    "             'comic/row/20.jpg',\n",
    "             'comic/row/21.jpg',\n",
    "             'comic/row/22.jpg'\n",
    "            ]\n",
    "for image in imagelist:\n",
    "    pdf.add_page()\n",
    "    pdf.image(image, 0, 0, width, height)\n",
    "pdf.output(\"pages/page5.pdf\", \"F\")"
   ]
  },
  {
   "cell_type": "code",
   "execution_count": 37,
   "metadata": {},
   "outputs": [
    {
     "data": {
      "text/plain": [
       "''"
      ]
     },
     "execution_count": 37,
     "metadata": {},
     "output_type": "execute_result"
    }
   ],
   "source": [
    "from fpdf import FPDF\n",
    "\n",
    "#pdf = FPDF()\n",
    "cover = Image.open('comic/row/23.jpg')\n",
    "width, height = cover.size\n",
    "pdf = FPDF(unit = \"pt\", format = [width+50, height])\n",
    "# imagelist is the list with all image filenames\n",
    "imagelist = [\n",
    "             'comic/row/23.jpg'\n",
    "            ]\n",
    "for image in imagelist:\n",
    "    pdf.add_page()\n",
    "    pdf.image(image, 0, 0, width, height)\n",
    "pdf.output(\"pages/page6.pdf\", \"F\")"
   ]
  }
 ],
 "metadata": {
  "kernelspec": {
   "display_name": "Python 3",
   "language": "python",
   "name": "python3"
  },
  "language_info": {
   "codemirror_mode": {
    "name": "ipython",
    "version": 3
   },
   "file_extension": ".py",
   "mimetype": "text/x-python",
   "name": "python",
   "nbconvert_exporter": "python",
   "pygments_lexer": "ipython3",
   "version": "3.7.4"
  }
 },
 "nbformat": 4,
 "nbformat_minor": 2
}
